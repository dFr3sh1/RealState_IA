{
 "cells": [
  {
   "cell_type": "code",
   "execution_count": 1,
   "metadata": {},
   "outputs": [],
   "source": [
    "from sklearn.linear_model import LinearRegression, Ridge, Lasso, ElasticNet\n",
    "from sklearn.model_selection import GridSearchCV, train_test_split, cross_val_score, validation_curve, learning_curve\n",
    "from sklearn.neighbors import KNeighborsRegressor\n",
    "import numpy as np\n",
    "from sklearn.pipeline import Pipeline\n",
    "from sklearn.preprocessing import MinMaxScaler,StandardScaler,OneHotEncoder, RobustScaler\n",
    "from sklearn.compose import ColumnTransformer\n",
    "from sklearn.impute import SimpleImputer\n",
    "import pickle\n",
    "import pandas as pd\n",
    "import matplotlib.pyplot as plt\n",
    "import seaborn as sns"
   ]
  },
  {
   "cell_type": "code",
   "execution_count": 2,
   "metadata": {},
   "outputs": [],
   "source": [
    "df_house_set = pd.read_csv('../Brief/house_data_for_model.csv')"
   ]
  },
  {
   "cell_type": "code",
   "execution_count": 3,
   "metadata": {},
   "outputs": [
    {
     "data": {
      "text/html": [
       "<div>\n",
       "<style scoped>\n",
       "    .dataframe tbody tr th:only-of-type {\n",
       "        vertical-align: middle;\n",
       "    }\n",
       "\n",
       "    .dataframe tbody tr th {\n",
       "        vertical-align: top;\n",
       "    }\n",
       "\n",
       "    .dataframe thead th {\n",
       "        text-align: right;\n",
       "    }\n",
       "</style>\n",
       "<table border=\"1\" class=\"dataframe\">\n",
       "  <thead>\n",
       "    <tr style=\"text-align: right;\">\n",
       "      <th></th>\n",
       "      <th>Unnamed: 0.1</th>\n",
       "      <th>Unnamed: 0</th>\n",
       "      <th>date</th>\n",
       "      <th>prix</th>\n",
       "      <th>chambres</th>\n",
       "      <th>salles_de_bain</th>\n",
       "      <th>m2_habitable</th>\n",
       "      <th>m2_Lot</th>\n",
       "      <th>étages</th>\n",
       "      <th>vue_sur_l-eau</th>\n",
       "      <th>...</th>\n",
       "      <th>condition</th>\n",
       "      <th>état</th>\n",
       "      <th>m2_above</th>\n",
       "      <th>m2_cave</th>\n",
       "      <th>yr_renovated</th>\n",
       "      <th>zipcode</th>\n",
       "      <th>lat</th>\n",
       "      <th>long</th>\n",
       "      <th>m2_habitable15</th>\n",
       "      <th>m2_lot15</th>\n",
       "    </tr>\n",
       "  </thead>\n",
       "  <tbody>\n",
       "    <tr>\n",
       "      <th>0</th>\n",
       "      <td>0</td>\n",
       "      <td>0</td>\n",
       "      <td>20141013T000000</td>\n",
       "      <td>221900.0</td>\n",
       "      <td>3</td>\n",
       "      <td>1.00</td>\n",
       "      <td>393.33</td>\n",
       "      <td>1883.33</td>\n",
       "      <td>1.0</td>\n",
       "      <td>0</td>\n",
       "      <td>...</td>\n",
       "      <td>3</td>\n",
       "      <td>7</td>\n",
       "      <td>393.33</td>\n",
       "      <td>0.00</td>\n",
       "      <td>1955</td>\n",
       "      <td>98178</td>\n",
       "      <td>47.51</td>\n",
       "      <td>-122.26</td>\n",
       "      <td>446.67</td>\n",
       "      <td>1883.33</td>\n",
       "    </tr>\n",
       "    <tr>\n",
       "      <th>1</th>\n",
       "      <td>1</td>\n",
       "      <td>1</td>\n",
       "      <td>20141209T000000</td>\n",
       "      <td>538000.0</td>\n",
       "      <td>3</td>\n",
       "      <td>2.25</td>\n",
       "      <td>856.67</td>\n",
       "      <td>2414.00</td>\n",
       "      <td>2.0</td>\n",
       "      <td>0</td>\n",
       "      <td>...</td>\n",
       "      <td>3</td>\n",
       "      <td>7</td>\n",
       "      <td>723.33</td>\n",
       "      <td>133.33</td>\n",
       "      <td>1991</td>\n",
       "      <td>98125</td>\n",
       "      <td>47.72</td>\n",
       "      <td>-122.32</td>\n",
       "      <td>563.33</td>\n",
       "      <td>2546.33</td>\n",
       "    </tr>\n",
       "    <tr>\n",
       "      <th>2</th>\n",
       "      <td>2</td>\n",
       "      <td>2</td>\n",
       "      <td>20150225T000000</td>\n",
       "      <td>180000.0</td>\n",
       "      <td>2</td>\n",
       "      <td>1.00</td>\n",
       "      <td>256.67</td>\n",
       "      <td>3333.33</td>\n",
       "      <td>1.0</td>\n",
       "      <td>0</td>\n",
       "      <td>...</td>\n",
       "      <td>3</td>\n",
       "      <td>6</td>\n",
       "      <td>256.67</td>\n",
       "      <td>0.00</td>\n",
       "      <td>1933</td>\n",
       "      <td>98028</td>\n",
       "      <td>47.74</td>\n",
       "      <td>-122.23</td>\n",
       "      <td>906.67</td>\n",
       "      <td>2687.33</td>\n",
       "    </tr>\n",
       "    <tr>\n",
       "      <th>3</th>\n",
       "      <td>3</td>\n",
       "      <td>3</td>\n",
       "      <td>20141209T000000</td>\n",
       "      <td>604000.0</td>\n",
       "      <td>4</td>\n",
       "      <td>3.00</td>\n",
       "      <td>653.33</td>\n",
       "      <td>1666.67</td>\n",
       "      <td>1.0</td>\n",
       "      <td>0</td>\n",
       "      <td>...</td>\n",
       "      <td>5</td>\n",
       "      <td>7</td>\n",
       "      <td>350.00</td>\n",
       "      <td>303.33</td>\n",
       "      <td>1965</td>\n",
       "      <td>98136</td>\n",
       "      <td>47.52</td>\n",
       "      <td>-122.39</td>\n",
       "      <td>453.33</td>\n",
       "      <td>1666.67</td>\n",
       "    </tr>\n",
       "    <tr>\n",
       "      <th>4</th>\n",
       "      <td>4</td>\n",
       "      <td>4</td>\n",
       "      <td>20150218T000000</td>\n",
       "      <td>510000.0</td>\n",
       "      <td>3</td>\n",
       "      <td>2.00</td>\n",
       "      <td>560.00</td>\n",
       "      <td>2693.33</td>\n",
       "      <td>1.0</td>\n",
       "      <td>0</td>\n",
       "      <td>...</td>\n",
       "      <td>3</td>\n",
       "      <td>8</td>\n",
       "      <td>560.00</td>\n",
       "      <td>0.00</td>\n",
       "      <td>1987</td>\n",
       "      <td>98074</td>\n",
       "      <td>47.62</td>\n",
       "      <td>-122.04</td>\n",
       "      <td>600.00</td>\n",
       "      <td>2501.00</td>\n",
       "    </tr>\n",
       "    <tr>\n",
       "      <th>...</th>\n",
       "      <td>...</td>\n",
       "      <td>...</td>\n",
       "      <td>...</td>\n",
       "      <td>...</td>\n",
       "      <td>...</td>\n",
       "      <td>...</td>\n",
       "      <td>...</td>\n",
       "      <td>...</td>\n",
       "      <td>...</td>\n",
       "      <td>...</td>\n",
       "      <td>...</td>\n",
       "      <td>...</td>\n",
       "      <td>...</td>\n",
       "      <td>...</td>\n",
       "      <td>...</td>\n",
       "      <td>...</td>\n",
       "      <td>...</td>\n",
       "      <td>...</td>\n",
       "      <td>...</td>\n",
       "      <td>...</td>\n",
       "      <td>...</td>\n",
       "    </tr>\n",
       "    <tr>\n",
       "      <th>21608</th>\n",
       "      <td>21608</td>\n",
       "      <td>21608</td>\n",
       "      <td>20140521T000000</td>\n",
       "      <td>360000.0</td>\n",
       "      <td>3</td>\n",
       "      <td>2.50</td>\n",
       "      <td>510.00</td>\n",
       "      <td>377.00</td>\n",
       "      <td>3.0</td>\n",
       "      <td>0</td>\n",
       "      <td>...</td>\n",
       "      <td>3</td>\n",
       "      <td>8</td>\n",
       "      <td>510.00</td>\n",
       "      <td>0.00</td>\n",
       "      <td>2009</td>\n",
       "      <td>98103</td>\n",
       "      <td>47.70</td>\n",
       "      <td>-122.35</td>\n",
       "      <td>510.00</td>\n",
       "      <td>503.00</td>\n",
       "    </tr>\n",
       "    <tr>\n",
       "      <th>21609</th>\n",
       "      <td>21609</td>\n",
       "      <td>21609</td>\n",
       "      <td>20150223T000000</td>\n",
       "      <td>400000.0</td>\n",
       "      <td>4</td>\n",
       "      <td>2.50</td>\n",
       "      <td>770.00</td>\n",
       "      <td>1937.67</td>\n",
       "      <td>2.0</td>\n",
       "      <td>0</td>\n",
       "      <td>...</td>\n",
       "      <td>3</td>\n",
       "      <td>8</td>\n",
       "      <td>770.00</td>\n",
       "      <td>0.00</td>\n",
       "      <td>2014</td>\n",
       "      <td>98146</td>\n",
       "      <td>47.51</td>\n",
       "      <td>-122.36</td>\n",
       "      <td>610.00</td>\n",
       "      <td>2400.00</td>\n",
       "    </tr>\n",
       "    <tr>\n",
       "      <th>21610</th>\n",
       "      <td>21610</td>\n",
       "      <td>21610</td>\n",
       "      <td>20140623T000000</td>\n",
       "      <td>402101.0</td>\n",
       "      <td>2</td>\n",
       "      <td>0.75</td>\n",
       "      <td>340.00</td>\n",
       "      <td>450.00</td>\n",
       "      <td>2.0</td>\n",
       "      <td>0</td>\n",
       "      <td>...</td>\n",
       "      <td>3</td>\n",
       "      <td>7</td>\n",
       "      <td>340.00</td>\n",
       "      <td>0.00</td>\n",
       "      <td>2009</td>\n",
       "      <td>98144</td>\n",
       "      <td>47.59</td>\n",
       "      <td>-122.30</td>\n",
       "      <td>340.00</td>\n",
       "      <td>669.00</td>\n",
       "    </tr>\n",
       "    <tr>\n",
       "      <th>21611</th>\n",
       "      <td>21611</td>\n",
       "      <td>21611</td>\n",
       "      <td>20150116T000000</td>\n",
       "      <td>400000.0</td>\n",
       "      <td>3</td>\n",
       "      <td>2.50</td>\n",
       "      <td>533.33</td>\n",
       "      <td>796.00</td>\n",
       "      <td>2.0</td>\n",
       "      <td>0</td>\n",
       "      <td>...</td>\n",
       "      <td>3</td>\n",
       "      <td>8</td>\n",
       "      <td>533.33</td>\n",
       "      <td>0.00</td>\n",
       "      <td>2004</td>\n",
       "      <td>98027</td>\n",
       "      <td>47.53</td>\n",
       "      <td>-122.07</td>\n",
       "      <td>470.00</td>\n",
       "      <td>429.00</td>\n",
       "    </tr>\n",
       "    <tr>\n",
       "      <th>21612</th>\n",
       "      <td>21612</td>\n",
       "      <td>21612</td>\n",
       "      <td>20141015T000000</td>\n",
       "      <td>325000.0</td>\n",
       "      <td>2</td>\n",
       "      <td>0.75</td>\n",
       "      <td>340.00</td>\n",
       "      <td>358.67</td>\n",
       "      <td>2.0</td>\n",
       "      <td>0</td>\n",
       "      <td>...</td>\n",
       "      <td>3</td>\n",
       "      <td>7</td>\n",
       "      <td>340.00</td>\n",
       "      <td>0.00</td>\n",
       "      <td>2008</td>\n",
       "      <td>98144</td>\n",
       "      <td>47.59</td>\n",
       "      <td>-122.30</td>\n",
       "      <td>340.00</td>\n",
       "      <td>452.33</td>\n",
       "    </tr>\n",
       "  </tbody>\n",
       "</table>\n",
       "<p>21613 rows × 21 columns</p>\n",
       "</div>"
      ],
      "text/plain": [
       "       Unnamed: 0.1  Unnamed: 0             date      prix  chambres  \\\n",
       "0                 0           0  20141013T000000  221900.0         3   \n",
       "1                 1           1  20141209T000000  538000.0         3   \n",
       "2                 2           2  20150225T000000  180000.0         2   \n",
       "3                 3           3  20141209T000000  604000.0         4   \n",
       "4                 4           4  20150218T000000  510000.0         3   \n",
       "...             ...         ...              ...       ...       ...   \n",
       "21608         21608       21608  20140521T000000  360000.0         3   \n",
       "21609         21609       21609  20150223T000000  400000.0         4   \n",
       "21610         21610       21610  20140623T000000  402101.0         2   \n",
       "21611         21611       21611  20150116T000000  400000.0         3   \n",
       "21612         21612       21612  20141015T000000  325000.0         2   \n",
       "\n",
       "       salles_de_bain  m2_habitable   m2_Lot  étages  vue_sur_l-eau  ...  \\\n",
       "0                1.00        393.33  1883.33     1.0              0  ...   \n",
       "1                2.25        856.67  2414.00     2.0              0  ...   \n",
       "2                1.00        256.67  3333.33     1.0              0  ...   \n",
       "3                3.00        653.33  1666.67     1.0              0  ...   \n",
       "4                2.00        560.00  2693.33     1.0              0  ...   \n",
       "...               ...           ...      ...     ...            ...  ...   \n",
       "21608            2.50        510.00   377.00     3.0              0  ...   \n",
       "21609            2.50        770.00  1937.67     2.0              0  ...   \n",
       "21610            0.75        340.00   450.00     2.0              0  ...   \n",
       "21611            2.50        533.33   796.00     2.0              0  ...   \n",
       "21612            0.75        340.00   358.67     2.0              0  ...   \n",
       "\n",
       "       condition  état  m2_above  m2_cave  yr_renovated  zipcode    lat  \\\n",
       "0              3     7    393.33     0.00          1955    98178  47.51   \n",
       "1              3     7    723.33   133.33          1991    98125  47.72   \n",
       "2              3     6    256.67     0.00          1933    98028  47.74   \n",
       "3              5     7    350.00   303.33          1965    98136  47.52   \n",
       "4              3     8    560.00     0.00          1987    98074  47.62   \n",
       "...          ...   ...       ...      ...           ...      ...    ...   \n",
       "21608          3     8    510.00     0.00          2009    98103  47.70   \n",
       "21609          3     8    770.00     0.00          2014    98146  47.51   \n",
       "21610          3     7    340.00     0.00          2009    98144  47.59   \n",
       "21611          3     8    533.33     0.00          2004    98027  47.53   \n",
       "21612          3     7    340.00     0.00          2008    98144  47.59   \n",
       "\n",
       "         long  m2_habitable15  m2_lot15  \n",
       "0     -122.26          446.67   1883.33  \n",
       "1     -122.32          563.33   2546.33  \n",
       "2     -122.23          906.67   2687.33  \n",
       "3     -122.39          453.33   1666.67  \n",
       "4     -122.04          600.00   2501.00  \n",
       "...       ...             ...       ...  \n",
       "21608 -122.35          510.00    503.00  \n",
       "21609 -122.36          610.00   2400.00  \n",
       "21610 -122.30          340.00    669.00  \n",
       "21611 -122.07          470.00    429.00  \n",
       "21612 -122.30          340.00    452.33  \n",
       "\n",
       "[21613 rows x 21 columns]"
      ]
     },
     "execution_count": 3,
     "metadata": {},
     "output_type": "execute_result"
    }
   ],
   "source": [
    "df_house_set"
   ]
  },
  {
   "cell_type": "code",
   "execution_count": 3,
   "metadata": {},
   "outputs": [
    {
     "name": "stdout",
     "output_type": "stream",
     "text": [
      "<class 'pandas.core.frame.DataFrame'>\n",
      "RangeIndex: 21613 entries, 0 to 21612\n",
      "Data columns (total 21 columns):\n",
      " #   Column          Non-Null Count  Dtype  \n",
      "---  ------          --------------  -----  \n",
      " 0   Unnamed: 0.1    21613 non-null  int64  \n",
      " 1   Unnamed: 0      21613 non-null  int64  \n",
      " 2   date            21613 non-null  object \n",
      " 3   prix            21613 non-null  float64\n",
      " 4   chambres        21613 non-null  int64  \n",
      " 5   salles_de_bain  21613 non-null  float64\n",
      " 6   m2_habitable    21613 non-null  float64\n",
      " 7   m2_Lot          21613 non-null  float64\n",
      " 8   étages          21613 non-null  float64\n",
      " 9   vue_sur_l-eau   21613 non-null  int64  \n",
      " 10  vue             21613 non-null  int64  \n",
      " 11  condition       21613 non-null  int64  \n",
      " 12  état            21613 non-null  int64  \n",
      " 13  m2_above        21613 non-null  float64\n",
      " 14  m2_cave         21613 non-null  float64\n",
      " 15  yr_renovated    21613 non-null  int64  \n",
      " 16  zipcode         21613 non-null  int64  \n",
      " 17  lat             21613 non-null  float64\n",
      " 18  long            21613 non-null  float64\n",
      " 19  m2_habitable15  21613 non-null  float64\n",
      " 20  m2_lot15        21613 non-null  float64\n",
      "dtypes: float64(11), int64(9), object(1)\n",
      "memory usage: 3.5+ MB\n"
     ]
    }
   ],
   "source": [
    "df_house_set.info()"
   ]
  },
  {
   "cell_type": "code",
   "execution_count": 4,
   "metadata": {},
   "outputs": [
    {
     "data": {
      "text/plain": [
       "<Axes: title={'center': 'prix en fonction des m2 habitable'}, xlabel='m2_habitable', ylabel='prix'>"
      ]
     },
     "execution_count": 4,
     "metadata": {},
     "output_type": "execute_result"
    },
    {
     "data": {
      "image/png": "[encoded data removed]",
      "text/plain": [
       "<Figure size 640x480 with 1 Axes>"
      ]
     },
     "metadata": {},
     "output_type": "display_data"
    }
   ],
   "source": [
    "df_house_set.plot(kind=\"scatter\", x= \"m2_habitable\", y=\"prix\", title=\"prix en fonction des m2 habitable\")"
   ]
  },
  {
   "cell_type": "code",
   "execution_count": 5,
   "metadata": {},
   "outputs": [],
   "source": [
    "#Initiation d'un estimateur. Je prends les variables catégorièlles qui ont une correlation important avec le prix lors de mes \n",
    "# graphiques. C'est à dire, celles qui ont  dépassé le coéficcient de 0.5\n",
    "from sklearn.model_selection import train_test_split\n",
    "y = df_house_set['prix']\n",
    "X = df_house_set[['salles_de_bain', 'm2_habitable', 'état', 'm2_above', 'm2_habitable15']]\n",
    "X_train, X_test, y_train, y_test = train_test_split(X, y, train_size=0.8, random_state=42)\n"
   ]
  },
  {
   "cell_type": "code",
   "execution_count": 6,
   "metadata": {},
   "outputs": [
    {
     "data": {
      "text/plain": [
       "(17290, 5)"
      ]
     },
     "execution_count": 6,
     "metadata": {},
     "output_type": "execute_result"
    }
   ],
   "source": [
    "X_train.shape"
   ]
  },
  {
   "cell_type": "code",
   "execution_count": 7,
   "metadata": {},
   "outputs": [
    {
     "name": "stdout",
     "output_type": "stream",
     "text": [
      "KNeighborsRegressor(n_neighbors=15) <class 'sklearn.neighbors._regression.KNeighborsRegressor'>\n"
     ]
    }
   ],
   "source": [
    "model = KNeighborsRegressor(n_neighbors=15)\n",
    "\n",
    "print(model, type(model))"
   ]
  },
  {
   "cell_type": "code",
   "execution_count": 8,
   "metadata": {},
   "outputs": [
    {
     "name": "stdout",
     "output_type": "stream",
     "text": [
      "KNeighborsRegressor(n_neighbors=15) <class 'sklearn.neighbors._regression.KNeighborsRegressor'>\n"
     ]
    }
   ],
   "source": [
    "trained_model = model.fit(X_train,y_train)\n",
    "\n",
    "print(trained_model, type(trained_model))"
   ]
  },
  {
   "cell_type": "code",
   "execution_count": 9,
   "metadata": {},
   "outputs": [
    {
     "data": {
      "text/plain": [
       "0.5561938647844814"
      ]
     },
     "execution_count": 9,
     "metadata": {},
     "output_type": "execute_result"
    }
   ],
   "source": [
    "trained_model.score(X_test,y_test)"
   ]
  },
  {
   "attachments": {},
   "cell_type": "markdown",
   "metadata": {},
   "source": [
    "Il est nécessaire de connaître l'impact des autres variables (en dessous de 0.50)."
   ]
  },
  {
   "cell_type": "code",
   "execution_count": 10,
   "metadata": {},
   "outputs": [],
   "source": [
    "y = df_house_set['prix']\n",
    "X = df_house_set[['chambres', 'm2_Lot', 'étages', 'vue_sur_l-eau', 'vue', 'condition', 'm2_cave', 'yr_renovated','zipcode', 'lat', 'long', 'm2_lot15' ]]\n",
    "X_train, X_test, y_train, y_test = train_test_split(X, y, train_size=0.8, random_state=42)"
   ]
  },
  {
   "cell_type": "code",
   "execution_count": 14,
   "metadata": {},
   "outputs": [
    {
     "name": "stdout",
     "output_type": "stream",
     "text": [
      "KNeighborsRegressor(n_neighbors=15) <class 'sklearn.neighbors._regression.KNeighborsRegressor'>\n"
     ]
    }
   ],
   "source": [
    "model = KNeighborsRegressor(n_neighbors=15)\n",
    "\n",
    "print(model, type(model))"
   ]
  },
  {
   "cell_type": "code",
   "execution_count": 11,
   "metadata": {},
   "outputs": [
    {
     "name": "stdout",
     "output_type": "stream",
     "text": [
      "KNeighborsRegressor(n_neighbors=15) <class 'sklearn.neighbors._regression.KNeighborsRegressor'>\n"
     ]
    }
   ],
   "source": [
    "trained_model = model.fit(X_train,y_train)\n",
    "\n",
    "print(trained_model, type(trained_model))"
   ]
  },
  {
   "cell_type": "code",
   "execution_count": 12,
   "metadata": {},
   "outputs": [
    {
     "data": {
      "text/plain": [
       "0.17638594931665774"
      ]
     },
     "execution_count": 12,
     "metadata": {},
     "output_type": "execute_result"
    }
   ],
   "source": [
    "trained_model.score(X_test,y_test)"
   ]
  },
  {
   "attachments": {},
   "cell_type": "markdown",
   "metadata": {},
   "source": [
    "Je vais essayer de  récupérer ce 0,177 sur mon ancien score en testant toutes les variables ensemble"
   ]
  },
  {
   "cell_type": "code",
   "execution_count": 15,
   "metadata": {},
   "outputs": [],
   "source": [
    "y = df_house_set['prix']\n",
    "X = df_house_set[['salles_de_bain', 'm2_habitable', 'état', 'm2_above', 'm2_habitable15','chambres', 'm2_Lot', 'étages', 'vue_sur_l-eau', 'vue', 'condition', 'm2_cave', 'yr_renovated','zipcode', 'lat', 'long', 'm2_lot15' ]]\n",
    "X_train, X_test, y_train, y_test = train_test_split(X, y, train_size=0.8, random_state=42)"
   ]
  },
  {
   "cell_type": "code",
   "execution_count": 16,
   "metadata": {},
   "outputs": [
    {
     "name": "stdout",
     "output_type": "stream",
     "text": [
      "KNeighborsRegressor(n_neighbors=15) <class 'sklearn.neighbors._regression.KNeighborsRegressor'>\n"
     ]
    }
   ],
   "source": [
    "model = KNeighborsRegressor(n_neighbors=15)\n",
    "\n",
    "print(model, type(model))"
   ]
  },
  {
   "cell_type": "code",
   "execution_count": 17,
   "metadata": {},
   "outputs": [
    {
     "name": "stdout",
     "output_type": "stream",
     "text": [
      "KNeighborsRegressor(n_neighbors=15) <class 'sklearn.neighbors._regression.KNeighborsRegressor'>\n"
     ]
    }
   ],
   "source": [
    "trained_model = model.fit(X_train,y_train)\n",
    "\n",
    "print(trained_model, type(trained_model))"
   ]
  },
  {
   "cell_type": "code",
   "execution_count": 18,
   "metadata": {},
   "outputs": [
    {
     "data": {
      "text/plain": [
       "0.519494641437069"
      ]
     },
     "execution_count": 18,
     "metadata": {},
     "output_type": "execute_result"
    }
   ],
   "source": [
    "trained_model.score(X_test,y_test)"
   ]
  },
  {
   "attachments": {},
   "cell_type": "markdown",
   "metadata": {},
   "source": [
    "Le résultat n'est pas mieux, donc, je vais retester avec une combinaison des variables avec une correlation au dessus de 0.3 "
   ]
  },
  {
   "cell_type": "code",
   "execution_count": 19,
   "metadata": {},
   "outputs": [],
   "source": [
    "y = df_house_set['prix']\n",
    "X = df_house_set[['salles_de_bain', 'm2_habitable', 'état', 'm2_above', 'm2_habitable15','chambres', 'vue', 'm2_cave', 'lat']]\n",
    "X_train, X_test, y_train, y_test = train_test_split(X, y, train_size=0.8, random_state=42)"
   ]
  },
  {
   "cell_type": "code",
   "execution_count": 20,
   "metadata": {},
   "outputs": [
    {
     "name": "stdout",
     "output_type": "stream",
     "text": [
      "KNeighborsRegressor(n_neighbors=15) <class 'sklearn.neighbors._regression.KNeighborsRegressor'>\n"
     ]
    }
   ],
   "source": [
    "model= KNeighborsRegressor(n_neighbors=15)\n",
    "trained_model= model.fit(X_train, y_train)\n",
    "print(trained_model, type(trained_model))"
   ]
  },
  {
   "cell_type": "code",
   "execution_count": 21,
   "metadata": {},
   "outputs": [
    {
     "data": {
      "text/plain": [
       "0.5521670043144455"
      ]
     },
     "execution_count": 21,
     "metadata": {},
     "output_type": "execute_result"
    }
   ],
   "source": [
    "trained_model.score(X_test, y_test)"
   ]
  },
  {
   "attachments": {},
   "cell_type": "markdown",
   "metadata": {},
   "source": [
    "Le résultat n'est pas mieux que celui de variables au desuss de 0.5, mais étant donné que je mets en place un model  de voisinage, les variables positionnèlles pourront  apporter un meilleur score"
   ]
  },
  {
   "cell_type": "code",
   "execution_count": 26,
   "metadata": {},
   "outputs": [
    {
     "name": "stdout",
     "output_type": "stream",
     "text": [
      "[0.78212242 0.7816138  0.81525472 0.81567053 0.82502306]\n",
      "0.8039369054411442\n"
     ]
    }
   ],
   "source": [
    "y = df_house_set['prix']\n",
    "X = df_house_set[['salles_de_bain', 'm2_habitable', 'état', 'm2_above', 'm2_habitable15', 'lat', 'long']]\n",
    "X_train, X_test, y_train, y_test = train_test_split(X, y, train_size=0.8, random_state=42)\n",
    "\n",
    "minmax = MinMaxScaler()\n",
    "X_train_min_max = minmax.fit_transform(X_train)\n",
    "\n",
    "model = KNeighborsRegressor(n_neighbors=15)\n",
    "\n",
    "scores = cross_val_score(model, X_train_min_max, y_train, cv=5)\n",
    "\n",
    "print(scores)\n",
    "print(scores.mean())"
   ]
  },
  {
   "attachments": {},
   "cell_type": "markdown",
   "metadata": {},
   "source": [
    "On effet notre  modèle améliore perform de plus 25%!\n",
    "\n",
    "J'intègre les variables qui feront partie de mon formulaire de questions envers l'utilisateur"
   ]
  },
  {
   "cell_type": "code",
   "execution_count": 27,
   "metadata": {},
   "outputs": [],
   "source": [
    "df_house_set.rename(columns={'étages': 'etages', 'état':'etat','vue_sur_l-eau':'vue_sur_leau'}, inplace=True)"
   ]
  },
  {
   "cell_type": "code",
   "execution_count": 26,
   "metadata": {},
   "outputs": [
    {
     "data": {
      "text/html": [
       "<div>\n",
       "<style scoped>\n",
       "    .dataframe tbody tr th:only-of-type {\n",
       "        vertical-align: middle;\n",
       "    }\n",
       "\n",
       "    .dataframe tbody tr th {\n",
       "        vertical-align: top;\n",
       "    }\n",
       "\n",
       "    .dataframe thead th {\n",
       "        text-align: right;\n",
       "    }\n",
       "</style>\n",
       "<table border=\"1\" class=\"dataframe\">\n",
       "  <thead>\n",
       "    <tr style=\"text-align: right;\">\n",
       "      <th></th>\n",
       "      <th>Unnamed: 0.1</th>\n",
       "      <th>Unnamed: 0</th>\n",
       "      <th>date</th>\n",
       "      <th>prix</th>\n",
       "      <th>chambres</th>\n",
       "      <th>salles_de_bain</th>\n",
       "      <th>m2_habitable</th>\n",
       "      <th>m2_Lot</th>\n",
       "      <th>etages</th>\n",
       "      <th>vue_sur_leau</th>\n",
       "      <th>...</th>\n",
       "      <th>condition</th>\n",
       "      <th>etat</th>\n",
       "      <th>m2_above</th>\n",
       "      <th>m2_cave</th>\n",
       "      <th>yr_renovated</th>\n",
       "      <th>zipcode</th>\n",
       "      <th>lat</th>\n",
       "      <th>long</th>\n",
       "      <th>m2_habitable15</th>\n",
       "      <th>m2_lot15</th>\n",
       "    </tr>\n",
       "  </thead>\n",
       "  <tbody>\n",
       "    <tr>\n",
       "      <th>0</th>\n",
       "      <td>0</td>\n",
       "      <td>0</td>\n",
       "      <td>20141013T000000</td>\n",
       "      <td>221900.0</td>\n",
       "      <td>3</td>\n",
       "      <td>1.00</td>\n",
       "      <td>393.33</td>\n",
       "      <td>1883.33</td>\n",
       "      <td>1.0</td>\n",
       "      <td>0</td>\n",
       "      <td>...</td>\n",
       "      <td>3</td>\n",
       "      <td>7</td>\n",
       "      <td>393.33</td>\n",
       "      <td>0.00</td>\n",
       "      <td>1955</td>\n",
       "      <td>98178</td>\n",
       "      <td>47.51</td>\n",
       "      <td>-122.26</td>\n",
       "      <td>446.67</td>\n",
       "      <td>1883.33</td>\n",
       "    </tr>\n",
       "    <tr>\n",
       "      <th>1</th>\n",
       "      <td>1</td>\n",
       "      <td>1</td>\n",
       "      <td>20141209T000000</td>\n",
       "      <td>538000.0</td>\n",
       "      <td>3</td>\n",
       "      <td>2.25</td>\n",
       "      <td>856.67</td>\n",
       "      <td>2414.00</td>\n",
       "      <td>2.0</td>\n",
       "      <td>0</td>\n",
       "      <td>...</td>\n",
       "      <td>3</td>\n",
       "      <td>7</td>\n",
       "      <td>723.33</td>\n",
       "      <td>133.33</td>\n",
       "      <td>1991</td>\n",
       "      <td>98125</td>\n",
       "      <td>47.72</td>\n",
       "      <td>-122.32</td>\n",
       "      <td>563.33</td>\n",
       "      <td>2546.33</td>\n",
       "    </tr>\n",
       "    <tr>\n",
       "      <th>2</th>\n",
       "      <td>2</td>\n",
       "      <td>2</td>\n",
       "      <td>20150225T000000</td>\n",
       "      <td>180000.0</td>\n",
       "      <td>2</td>\n",
       "      <td>1.00</td>\n",
       "      <td>256.67</td>\n",
       "      <td>3333.33</td>\n",
       "      <td>1.0</td>\n",
       "      <td>0</td>\n",
       "      <td>...</td>\n",
       "      <td>3</td>\n",
       "      <td>6</td>\n",
       "      <td>256.67</td>\n",
       "      <td>0.00</td>\n",
       "      <td>1933</td>\n",
       "      <td>98028</td>\n",
       "      <td>47.74</td>\n",
       "      <td>-122.23</td>\n",
       "      <td>906.67</td>\n",
       "      <td>2687.33</td>\n",
       "    </tr>\n",
       "    <tr>\n",
       "      <th>3</th>\n",
       "      <td>3</td>\n",
       "      <td>3</td>\n",
       "      <td>20141209T000000</td>\n",
       "      <td>604000.0</td>\n",
       "      <td>4</td>\n",
       "      <td>3.00</td>\n",
       "      <td>653.33</td>\n",
       "      <td>1666.67</td>\n",
       "      <td>1.0</td>\n",
       "      <td>0</td>\n",
       "      <td>...</td>\n",
       "      <td>5</td>\n",
       "      <td>7</td>\n",
       "      <td>350.00</td>\n",
       "      <td>303.33</td>\n",
       "      <td>1965</td>\n",
       "      <td>98136</td>\n",
       "      <td>47.52</td>\n",
       "      <td>-122.39</td>\n",
       "      <td>453.33</td>\n",
       "      <td>1666.67</td>\n",
       "    </tr>\n",
       "    <tr>\n",
       "      <th>4</th>\n",
       "      <td>4</td>\n",
       "      <td>4</td>\n",
       "      <td>20150218T000000</td>\n",
       "      <td>510000.0</td>\n",
       "      <td>3</td>\n",
       "      <td>2.00</td>\n",
       "      <td>560.00</td>\n",
       "      <td>2693.33</td>\n",
       "      <td>1.0</td>\n",
       "      <td>0</td>\n",
       "      <td>...</td>\n",
       "      <td>3</td>\n",
       "      <td>8</td>\n",
       "      <td>560.00</td>\n",
       "      <td>0.00</td>\n",
       "      <td>1987</td>\n",
       "      <td>98074</td>\n",
       "      <td>47.62</td>\n",
       "      <td>-122.04</td>\n",
       "      <td>600.00</td>\n",
       "      <td>2501.00</td>\n",
       "    </tr>\n",
       "    <tr>\n",
       "      <th>...</th>\n",
       "      <td>...</td>\n",
       "      <td>...</td>\n",
       "      <td>...</td>\n",
       "      <td>...</td>\n",
       "      <td>...</td>\n",
       "      <td>...</td>\n",
       "      <td>...</td>\n",
       "      <td>...</td>\n",
       "      <td>...</td>\n",
       "      <td>...</td>\n",
       "      <td>...</td>\n",
       "      <td>...</td>\n",
       "      <td>...</td>\n",
       "      <td>...</td>\n",
       "      <td>...</td>\n",
       "      <td>...</td>\n",
       "      <td>...</td>\n",
       "      <td>...</td>\n",
       "      <td>...</td>\n",
       "      <td>...</td>\n",
       "      <td>...</td>\n",
       "    </tr>\n",
       "    <tr>\n",
       "      <th>21608</th>\n",
       "      <td>21608</td>\n",
       "      <td>21608</td>\n",
       "      <td>20140521T000000</td>\n",
       "      <td>360000.0</td>\n",
       "      <td>3</td>\n",
       "      <td>2.50</td>\n",
       "      <td>510.00</td>\n",
       "      <td>377.00</td>\n",
       "      <td>3.0</td>\n",
       "      <td>0</td>\n",
       "      <td>...</td>\n",
       "      <td>3</td>\n",
       "      <td>8</td>\n",
       "      <td>510.00</td>\n",
       "      <td>0.00</td>\n",
       "      <td>2009</td>\n",
       "      <td>98103</td>\n",
       "      <td>47.70</td>\n",
       "      <td>-122.35</td>\n",
       "      <td>510.00</td>\n",
       "      <td>503.00</td>\n",
       "    </tr>\n",
       "    <tr>\n",
       "      <th>21609</th>\n",
       "      <td>21609</td>\n",
       "      <td>21609</td>\n",
       "      <td>20150223T000000</td>\n",
       "      <td>400000.0</td>\n",
       "      <td>4</td>\n",
       "      <td>2.50</td>\n",
       "      <td>770.00</td>\n",
       "      <td>1937.67</td>\n",
       "      <td>2.0</td>\n",
       "      <td>0</td>\n",
       "      <td>...</td>\n",
       "      <td>3</td>\n",
       "      <td>8</td>\n",
       "      <td>770.00</td>\n",
       "      <td>0.00</td>\n",
       "      <td>2014</td>\n",
       "      <td>98146</td>\n",
       "      <td>47.51</td>\n",
       "      <td>-122.36</td>\n",
       "      <td>610.00</td>\n",
       "      <td>2400.00</td>\n",
       "    </tr>\n",
       "    <tr>\n",
       "      <th>21610</th>\n",
       "      <td>21610</td>\n",
       "      <td>21610</td>\n",
       "      <td>20140623T000000</td>\n",
       "      <td>402101.0</td>\n",
       "      <td>2</td>\n",
       "      <td>0.75</td>\n",
       "      <td>340.00</td>\n",
       "      <td>450.00</td>\n",
       "      <td>2.0</td>\n",
       "      <td>0</td>\n",
       "      <td>...</td>\n",
       "      <td>3</td>\n",
       "      <td>7</td>\n",
       "      <td>340.00</td>\n",
       "      <td>0.00</td>\n",
       "      <td>2009</td>\n",
       "      <td>98144</td>\n",
       "      <td>47.59</td>\n",
       "      <td>-122.30</td>\n",
       "      <td>340.00</td>\n",
       "      <td>669.00</td>\n",
       "    </tr>\n",
       "    <tr>\n",
       "      <th>21611</th>\n",
       "      <td>21611</td>\n",
       "      <td>21611</td>\n",
       "      <td>20150116T000000</td>\n",
       "      <td>400000.0</td>\n",
       "      <td>3</td>\n",
       "      <td>2.50</td>\n",
       "      <td>533.33</td>\n",
       "      <td>796.00</td>\n",
       "      <td>2.0</td>\n",
       "      <td>0</td>\n",
       "      <td>...</td>\n",
       "      <td>3</td>\n",
       "      <td>8</td>\n",
       "      <td>533.33</td>\n",
       "      <td>0.00</td>\n",
       "      <td>2004</td>\n",
       "      <td>98027</td>\n",
       "      <td>47.53</td>\n",
       "      <td>-122.07</td>\n",
       "      <td>470.00</td>\n",
       "      <td>429.00</td>\n",
       "    </tr>\n",
       "    <tr>\n",
       "      <th>21612</th>\n",
       "      <td>21612</td>\n",
       "      <td>21612</td>\n",
       "      <td>20141015T000000</td>\n",
       "      <td>325000.0</td>\n",
       "      <td>2</td>\n",
       "      <td>0.75</td>\n",
       "      <td>340.00</td>\n",
       "      <td>358.67</td>\n",
       "      <td>2.0</td>\n",
       "      <td>0</td>\n",
       "      <td>...</td>\n",
       "      <td>3</td>\n",
       "      <td>7</td>\n",
       "      <td>340.00</td>\n",
       "      <td>0.00</td>\n",
       "      <td>2008</td>\n",
       "      <td>98144</td>\n",
       "      <td>47.59</td>\n",
       "      <td>-122.30</td>\n",
       "      <td>340.00</td>\n",
       "      <td>452.33</td>\n",
       "    </tr>\n",
       "  </tbody>\n",
       "</table>\n",
       "<p>21613 rows × 21 columns</p>\n",
       "</div>"
      ],
      "text/plain": [
       "       Unnamed: 0.1  Unnamed: 0             date      prix  chambres  \\\n",
       "0                 0           0  20141013T000000  221900.0         3   \n",
       "1                 1           1  20141209T000000  538000.0         3   \n",
       "2                 2           2  20150225T000000  180000.0         2   \n",
       "3                 3           3  20141209T000000  604000.0         4   \n",
       "4                 4           4  20150218T000000  510000.0         3   \n",
       "...             ...         ...              ...       ...       ...   \n",
       "21608         21608       21608  20140521T000000  360000.0         3   \n",
       "21609         21609       21609  20150223T000000  400000.0         4   \n",
       "21610         21610       21610  20140623T000000  402101.0         2   \n",
       "21611         21611       21611  20150116T000000  400000.0         3   \n",
       "21612         21612       21612  20141015T000000  325000.0         2   \n",
       "\n",
       "       salles_de_bain  m2_habitable   m2_Lot  etages  vue_sur_leau  ...  \\\n",
       "0                1.00        393.33  1883.33     1.0             0  ...   \n",
       "1                2.25        856.67  2414.00     2.0             0  ...   \n",
       "2                1.00        256.67  3333.33     1.0             0  ...   \n",
       "3                3.00        653.33  1666.67     1.0             0  ...   \n",
       "4                2.00        560.00  2693.33     1.0             0  ...   \n",
       "...               ...           ...      ...     ...           ...  ...   \n",
       "21608            2.50        510.00   377.00     3.0             0  ...   \n",
       "21609            2.50        770.00  1937.67     2.0             0  ...   \n",
       "21610            0.75        340.00   450.00     2.0             0  ...   \n",
       "21611            2.50        533.33   796.00     2.0             0  ...   \n",
       "21612            0.75        340.00   358.67     2.0             0  ...   \n",
       "\n",
       "       condition  etat  m2_above  m2_cave  yr_renovated  zipcode    lat  \\\n",
       "0              3     7    393.33     0.00          1955    98178  47.51   \n",
       "1              3     7    723.33   133.33          1991    98125  47.72   \n",
       "2              3     6    256.67     0.00          1933    98028  47.74   \n",
       "3              5     7    350.00   303.33          1965    98136  47.52   \n",
       "4              3     8    560.00     0.00          1987    98074  47.62   \n",
       "...          ...   ...       ...      ...           ...      ...    ...   \n",
       "21608          3     8    510.00     0.00          2009    98103  47.70   \n",
       "21609          3     8    770.00     0.00          2014    98146  47.51   \n",
       "21610          3     7    340.00     0.00          2009    98144  47.59   \n",
       "21611          3     8    533.33     0.00          2004    98027  47.53   \n",
       "21612          3     7    340.00     0.00          2008    98144  47.59   \n",
       "\n",
       "         long  m2_habitable15  m2_lot15  \n",
       "0     -122.26          446.67   1883.33  \n",
       "1     -122.32          563.33   2546.33  \n",
       "2     -122.23          906.67   2687.33  \n",
       "3     -122.39          453.33   1666.67  \n",
       "4     -122.04          600.00   2501.00  \n",
       "...       ...             ...       ...  \n",
       "21608 -122.35          510.00    503.00  \n",
       "21609 -122.36          610.00   2400.00  \n",
       "21610 -122.30          340.00    669.00  \n",
       "21611 -122.07          470.00    429.00  \n",
       "21612 -122.30          340.00    452.33  \n",
       "\n",
       "[21613 rows x 21 columns]"
      ]
     },
     "execution_count": 26,
     "metadata": {},
     "output_type": "execute_result"
    }
   ],
   "source": [
    "df_house_set"
   ]
  },
  {
   "cell_type": "code",
   "execution_count": 29,
   "metadata": {},
   "outputs": [
    {
     "name": "stdout",
     "output_type": "stream",
     "text": [
      "[0.79463136 0.79109107 0.83664229 0.84233666 0.84846475]\n",
      "0.8226332259205194\n"
     ]
    }
   ],
   "source": [
    "y = df_house_set['prix']\n",
    "X = df_house_set[['chambres', 'salles_de_bain', 'm2_habitable', 'm2_Lot', 'etages', 'vue_sur_leau', 'm2_cave', 'etat', 'm2_above', 'm2_habitable15', 'lat', 'long']]\n",
    "X_train, X_test, y_train, y_test = train_test_split(X, y, train_size=0.8, random_state=42)\n",
    "\n",
    "\n",
    "X_train_min_max = minmax.fit_transform(X_train)\n",
    "\n",
    "model = KNeighborsRegressor(n_neighbors=16)\n",
    "\n",
    "scores = cross_val_score(model, X_train_min_max, y_train, cv=5)\n",
    "\n",
    "print(scores)\n",
    "print(scores.mean())"
   ]
  },
  {
   "attachments": {},
   "cell_type": "markdown",
   "metadata": {},
   "source": [
    "J'intègre la notion  de factorisation du modèl avec pipeline, afin d'améliorer la performance."
   ]
  },
  {
   "cell_type": "code",
   "execution_count": 31,
   "metadata": {},
   "outputs": [],
   "source": [
    "y = df_house_set['prix']\n",
    "X = df_house_set[['chambres', 'salles_de_bain', 'm2_habitable', 'm2_Lot', 'etages', 'vue_sur_leau', 'm2_cave', 'etat', 'm2_above', 'lat', 'long']]\n",
    "X_train, X_test, y_train, y_test = train_test_split(X, y, train_size=0.8, random_state=42)\n",
    "\n",
    "minmax = MinMaxScaler()\n",
    "model = KNeighborsRegressor(weights='distance', n_neighbors=16)\n",
    "\n",
    "pipeline = Pipeline([\n",
    "    ('minmax', minmax),\n",
    "    ('knn', model)]\n",
    ")\n",
    "\n",
    "trained_pipe = pipeline.fit(X_train, y_train)\n",
    "trained_pipe.predict(X_test)\n",
    "trained_pipe.score(X_test, y_test)\n",
    "\n",
    "import pickle\n",
    "pickle.dump(trained_pipe, open ('model.pkl', 'wb'))"
   ]
  },
  {
   "cell_type": "code",
   "execution_count": 116,
   "metadata": {},
   "outputs": [
    {
     "data": {
      "text/html": [
       "<style>#sk-container-id-5 {color: black;background-color: white;}#sk-container-id-5 pre{padding: 0;}#sk-container-id-5 div.sk-toggleable {background-color: white;}#sk-container-id-5 label.sk-toggleable__label {cursor: pointer;display: block;width: 100%;margin-bottom: 0;padding: 0.3em;box-sizing: border-box;text-align: center;}#sk-container-id-5 label.sk-toggleable__label-arrow:before {content: \"▸\";float: left;margin-right: 0.25em;color: #696969;}#sk-container-id-5 label.sk-toggleable__label-arrow:hover:before {color: black;}#sk-container-id-5 div.sk-estimator:hover label.sk-toggleable__label-arrow:before {color: black;}#sk-container-id-5 div.sk-toggleable__content {max-height: 0;max-width: 0;overflow: hidden;text-align: left;background-color: #f0f8ff;}#sk-container-id-5 div.sk-toggleable__content pre {margin: 0.2em;color: black;border-radius: 0.25em;background-color: #f0f8ff;}#sk-container-id-5 input.sk-toggleable__control:checked~div.sk-toggleable__content {max-height: 200px;max-width: 100%;overflow: auto;}#sk-container-id-5 input.sk-toggleable__control:checked~label.sk-toggleable__label-arrow:before {content: \"▾\";}#sk-container-id-5 div.sk-estimator input.sk-toggleable__control:checked~label.sk-toggleable__label {background-color: #d4ebff;}#sk-container-id-5 div.sk-label input.sk-toggleable__control:checked~label.sk-toggleable__label {background-color: #d4ebff;}#sk-container-id-5 input.sk-hidden--visually {border: 0;clip: rect(1px 1px 1px 1px);clip: rect(1px, 1px, 1px, 1px);height: 1px;margin: -1px;overflow: hidden;padding: 0;position: absolute;width: 1px;}#sk-container-id-5 div.sk-estimator {font-family: monospace;background-color: #f0f8ff;border: 1px dotted black;border-radius: 0.25em;box-sizing: border-box;margin-bottom: 0.5em;}#sk-container-id-5 div.sk-estimator:hover {background-color: #d4ebff;}#sk-container-id-5 div.sk-parallel-item::after {content: \"\";width: 100%;border-bottom: 1px solid gray;flex-grow: 1;}#sk-container-id-5 div.sk-label:hover label.sk-toggleable__label {background-color: #d4ebff;}#sk-container-id-5 div.sk-serial::before {content: \"\";position: absolute;border-left: 1px solid gray;box-sizing: border-box;top: 0;bottom: 0;left: 50%;z-index: 0;}#sk-container-id-5 div.sk-serial {display: flex;flex-direction: column;align-items: center;background-color: white;padding-right: 0.2em;padding-left: 0.2em;position: relative;}#sk-container-id-5 div.sk-item {position: relative;z-index: 1;}#sk-container-id-5 div.sk-parallel {display: flex;align-items: stretch;justify-content: center;background-color: white;position: relative;}#sk-container-id-5 div.sk-item::before, #sk-container-id-5 div.sk-parallel-item::before {content: \"\";position: absolute;border-left: 1px solid gray;box-sizing: border-box;top: 0;bottom: 0;left: 50%;z-index: -1;}#sk-container-id-5 div.sk-parallel-item {display: flex;flex-direction: column;z-index: 1;position: relative;background-color: white;}#sk-container-id-5 div.sk-parallel-item:first-child::after {align-self: flex-end;width: 50%;}#sk-container-id-5 div.sk-parallel-item:last-child::after {align-self: flex-start;width: 50%;}#sk-container-id-5 div.sk-parallel-item:only-child::after {width: 0;}#sk-container-id-5 div.sk-dashed-wrapped {border: 1px dashed gray;margin: 0 0.4em 0.5em 0.4em;box-sizing: border-box;padding-bottom: 0.4em;background-color: white;}#sk-container-id-5 div.sk-label label {font-family: monospace;font-weight: bold;display: inline-block;line-height: 1.2em;}#sk-container-id-5 div.sk-label-container {text-align: center;}#sk-container-id-5 div.sk-container {/* jupyter's `normalize.less` sets `[hidden] { display: none; }` but bootstrap.min.css set `[hidden] { display: none !important; }` so we also need the `!important` here to be able to override the default hidden behavior on the sphinx rendered scikit-learn.org. See: https://github.com/scikit-learn/scikit-learn/issues/21755 */display: inline-block !important;position: relative;}#sk-container-id-5 div.sk-text-repr-fallback {display: none;}</style><div id=\"sk-container-id-5\" class=\"sk-top-container\"><div class=\"sk-text-repr-fallback\"><pre>GridSearchCV(cv=5, estimator=KNeighborsRegressor(),\n",
       "             param_grid={&#x27;n_neighbors&#x27;: array([ 1,  2,  3,  4,  5,  6,  7,  8,  9, 10, 11, 12, 13, 14, 15, 16, 17,\n",
       "       18, 19, 20, 21, 22, 23, 24, 25, 26, 27, 28, 29, 30, 31, 32, 33, 34,\n",
       "       35, 36, 37, 38, 39, 40, 41, 42, 43, 44, 45, 46, 47, 48, 49]),\n",
       "                         &#x27;weights&#x27;: [&#x27;uniform&#x27;, &#x27;distance&#x27;]})</pre><b>In a Jupyter environment, please rerun this cell to show the HTML representation or trust the notebook. <br />On GitHub, the HTML representation is unable to render, please try loading this page with nbviewer.org.</b></div><div class=\"sk-container\" hidden><div class=\"sk-item sk-dashed-wrapped\"><div class=\"sk-label-container\"><div class=\"sk-label sk-toggleable\"><input class=\"sk-toggleable__control sk-hidden--visually\" id=\"sk-estimator-id-13\" type=\"checkbox\" ><label for=\"sk-estimator-id-13\" class=\"sk-toggleable__label sk-toggleable__label-arrow\">GridSearchCV</label><div class=\"sk-toggleable__content\"><pre>GridSearchCV(cv=5, estimator=KNeighborsRegressor(),\n",
       "             param_grid={&#x27;n_neighbors&#x27;: array([ 1,  2,  3,  4,  5,  6,  7,  8,  9, 10, 11, 12, 13, 14, 15, 16, 17,\n",
       "       18, 19, 20, 21, 22, 23, 24, 25, 26, 27, 28, 29, 30, 31, 32, 33, 34,\n",
       "       35, 36, 37, 38, 39, 40, 41, 42, 43, 44, 45, 46, 47, 48, 49]),\n",
       "                         &#x27;weights&#x27;: [&#x27;uniform&#x27;, &#x27;distance&#x27;]})</pre></div></div></div><div class=\"sk-parallel\"><div class=\"sk-parallel-item\"><div class=\"sk-item\"><div class=\"sk-label-container\"><div class=\"sk-label sk-toggleable\"><input class=\"sk-toggleable__control sk-hidden--visually\" id=\"sk-estimator-id-14\" type=\"checkbox\" ><label for=\"sk-estimator-id-14\" class=\"sk-toggleable__label sk-toggleable__label-arrow\">estimator: KNeighborsRegressor</label><div class=\"sk-toggleable__content\"><pre>KNeighborsRegressor()</pre></div></div></div><div class=\"sk-serial\"><div class=\"sk-item\"><div class=\"sk-estimator sk-toggleable\"><input class=\"sk-toggleable__control sk-hidden--visually\" id=\"sk-estimator-id-15\" type=\"checkbox\" ><label for=\"sk-estimator-id-15\" class=\"sk-toggleable__label sk-toggleable__label-arrow\">KNeighborsRegressor</label><div class=\"sk-toggleable__content\"><pre>KNeighborsRegressor()</pre></div></div></div></div></div></div></div></div></div></div>"
      ],
      "text/plain": [
       "GridSearchCV(cv=5, estimator=KNeighborsRegressor(),\n",
       "             param_grid={'n_neighbors': array([ 1,  2,  3,  4,  5,  6,  7,  8,  9, 10, 11, 12, 13, 14, 15, 16, 17,\n",
       "       18, 19, 20, 21, 22, 23, 24, 25, 26, 27, 28, 29, 30, 31, 32, 33, 34,\n",
       "       35, 36, 37, 38, 39, 40, 41, 42, 43, 44, 45, 46, 47, 48, 49]),\n",
       "                         'weights': ['uniform', 'distance']})"
      ]
     },
     "execution_count": 116,
     "metadata": {},
     "output_type": "execute_result"
    }
   ],
   "source": [
    "param_grid = {'n_neighbors': np.arange(1, 50),\n",
    "              'weights': ['uniform', 'distance']}\n",
    "\n",
    "grid = GridSearchCV(KNeighborsRegressor(), param_grid, cv=5)\n",
    "\n",
    "grid.fit(X_train,y_train)"
   ]
  },
  {
   "attachments": {},
   "cell_type": "markdown",
   "metadata": {},
   "source": [
    "Étant donné qu'avec le procès factorisé j'ai obtenu un score de 0.7972614336399434, je préfère d'eteindre l'échantillonage de mon param_grid à 1% de la population."
   ]
  },
  {
   "cell_type": "code",
   "execution_count": 117,
   "metadata": {},
   "outputs": [
    {
     "data": {
      "text/plain": [
       "{'n_neighbors': 16, 'weights': 'distance'}"
      ]
     },
     "execution_count": 117,
     "metadata": {},
     "output_type": "execute_result"
    }
   ],
   "source": [
    "grid.best_params_"
   ]
  },
  {
   "attachments": {},
   "cell_type": "markdown",
   "metadata": {},
   "source": [
    "Je vais tester  robustscaler et standarscaler pour essayer  de n'est pas influencer mon modèle avec les  valeurs extrêmes"
   ]
  },
  {
   "cell_type": "code",
   "execution_count": 34,
   "metadata": {},
   "outputs": [
    {
     "data": {
      "text/plain": [
       "0.747764250260534"
      ]
     },
     "execution_count": 34,
     "metadata": {},
     "output_type": "execute_result"
    }
   ],
   "source": [
    "y = df_house_set['prix']\n",
    "X = df_house_set[['chambres', 'salles_de_bain', 'm2_habitable', 'm2_Lot', 'etages', 'vue_sur_leau', 'm2_cave', 'etat', 'm2_above', 'm2_habitable15', 'lat', 'long']]\n",
    "X_train, X_test, y_train, y_test = train_test_split(X, y, train_size=0.8, random_state=42)\n",
    "\n",
    "robustScaler = RobustScaler()\n",
    "model = KNeighborsRegressor(weights='distance', n_neighbors=16)\n",
    "\n",
    "pipeline = Pipeline([\n",
    "    ('robustscaler', robustScaler),\n",
    "    ('knn', model)]\n",
    ")\n",
    "\n",
    "trained_pipe = pipeline.fit(X_train, y_train)\n",
    "trained_pipe.predict(X_test)\n",
    "trained_pipe.score(X_test, y_test)"
   ]
  },
  {
   "cell_type": "code",
   "execution_count": 35,
   "metadata": {},
   "outputs": [
    {
     "data": {
      "text/plain": [
       "0.795889692360227"
      ]
     },
     "execution_count": 35,
     "metadata": {},
     "output_type": "execute_result"
    }
   ],
   "source": [
    "y = df_house_set['prix']\n",
    "X = df_house_set[['chambres', 'salles_de_bain', 'm2_habitable', 'm2_Lot', 'etages', 'vue_sur_leau', 'm2_cave', 'etat', 'm2_above', 'm2_habitable15', 'lat', 'long']]\n",
    "X_train, X_test, y_train, y_test = train_test_split(X, y, train_size=0.8, random_state=42)\n",
    "\n",
    "standard = StandardScaler()\n",
    "model = KNeighborsRegressor(weights='distance', n_neighbors=16)\n",
    "\n",
    "pipeline = Pipeline([\n",
    "    ('standard', standard),\n",
    "    ('knn', model)]\n",
    ")\n",
    "\n",
    "trained_pipe = pipeline.fit(X_train, y_train)\n",
    "trained_pipe.predict(X_test)\n",
    "trained_pipe.score(X_test, y_test)"
   ]
  },
  {
   "attachments": {},
   "cell_type": "markdown",
   "metadata": {},
   "source": [
    "Je prends le score obtenu avec le transformateur minmax."
   ]
  },
  {
   "cell_type": "code",
   "execution_count": 37,
   "metadata": {},
   "outputs": [
    {
     "data": {
      "text/plain": [
       "0.8233432553791764"
      ]
     },
     "execution_count": 37,
     "metadata": {},
     "output_type": "execute_result"
    }
   ],
   "source": [
    "from sklearn.preprocessing import PolynomialFeatures\n",
    "\n",
    "y = df_house_set['prix']\n",
    "X = df_house_set[['chambres', 'salles_de_bain', 'm2_habitable', 'm2_Lot', 'etages', 'vue_sur_leau', 'm2_cave', 'etat', 'm2_above', 'zipcode']]\n",
    "X_train, X_test, y_train, y_test = train_test_split(X, y, train_size=0.8, random_state=42)\n",
    "\n",
    "\n",
    "numeric_feature = ['chambres', 'salles_de_bain', 'm2_habitable', 'm2_Lot', 'm2_cave', 'm2_above']\n",
    "numeric_transformer = Pipeline([\n",
    "    ('stdscaler', MinMaxScaler()),\n",
    "    ]\n",
    ")\n",
    "\n",
    "categorial_feature = ['etages','vue_sur_leau', 'etat', 'zipcode']\n",
    "categorial_transformer=OneHotEncoder()\n",
    "\n",
    "\n",
    "preprocessor = ColumnTransformer(\n",
    "    remainder = \"passthrough\",\n",
    "    transformers = [\n",
    "        ('num', numeric_transformer, numeric_feature),\n",
    "        ('cat', categorial_transformer, categorial_feature)\n",
    "    ]\n",
    ")\n",
    "\n",
    "model = Lasso(alpha=1, fit_intercept=False, positive=True)\n",
    "\n",
    "pipeline = Pipeline([\n",
    "    ('preprocessor', preprocessor),\n",
    "    ('model', model)]\n",
    ")\n",
    "\n",
    "trained_pipe = pipeline.fit(X_train, y_train)\n",
    "trained_pipe.predict(X_test)\n",
    "trained_pipe.score(X_test, y_test)"
   ]
  },
  {
   "cell_type": "code",
   "execution_count": 44,
   "metadata": {},
   "outputs": [
    {
     "name": "stderr",
     "output_type": "stream",
     "text": [
      "/Users/thefreshdirector/miniconda3/envs/sklearn-env/lib/python3.10/site-packages/sklearn/linear_model/_coordinate_descent.py:634: ConvergenceWarning: Objective did not converge. You might want to increase the number of iterations, check the scale of the features or consider increasing regularisation. Duality gap: 5.295e+14, tolerance: 2.259e+11\n",
      "  model = cd_fast.enet_coordinate_descent(\n"
     ]
    },
    {
     "data": {
      "text/plain": [
       "0.169893709173493"
      ]
     },
     "execution_count": 44,
     "metadata": {},
     "output_type": "execute_result"
    }
   ],
   "source": [
    "from sklearn.linear_model import ElasticNet\n",
    "\n",
    "y = df_house_set['prix']\n",
    "X = df_house_set[['chambres', 'salles_de_bain', 'm2_habitable', 'm2_Lot', 'etages', 'vue_sur_leau', 'm2_cave', 'etat', 'm2_above', 'zipcode']]\n",
    "X_train, X_test, y_train, y_test = train_test_split(X, y, train_size=0.8, random_state=42)\n",
    "# X, y = make_regression(numeric_feature=6, random_state=0)\n",
    "regr = ElasticNet()\n",
    "regr.fit(X_train, y_train)\n",
    "\n",
    "numeric_feature = ['chambres', 'salles_de_bain', 'm2_habitable', 'm2_Lot', 'm2_cave', 'm2_above']\n",
    "numeric_transformer = Pipeline([\n",
    "    ('stdscaler', MinMaxScaler())]\n",
    ")\n",
    "\n",
    "categorial_feature = ['etages','vue_sur_leau', 'etat', 'zipcode']\n",
    "categorial_transformer=OneHotEncoder()\n",
    "\n",
    "\n",
    "preprocessor = ColumnTransformer(\n",
    "    remainder = \"passthrough\",\n",
    "    transformers = [\n",
    "        ('num', numeric_transformer, numeric_feature),\n",
    "        ('cat', categorial_transformer, categorial_feature)\n",
    "    ]\n",
    ")\n",
    "\n",
    "model = ElasticNet()\n",
    "\n",
    "pipeline = Pipeline([\n",
    "    ('preprocessor', preprocessor),\n",
    "    ('model', model)]\n",
    ")\n",
    "\n",
    "trained_pipe = pipeline.fit(X_train, y_train)\n",
    "trained_pipe.predict(X_test)\n",
    "trained_pipe.score(X_test, y_test)"
   ]
  },
  {
   "cell_type": "code",
   "execution_count": 147,
   "metadata": {},
   "outputs": [],
   "source": []
  },
  {
   "cell_type": "code",
   "execution_count": null,
   "metadata": {},
   "outputs": [],
   "source": []
  }
 ],
 "metadata": {
  "kernelspec": {
   "display_name": "sklearn-env",
   "language": "python",
   "name": "python3"
  },
  "language_info": {
   "codemirror_mode": {
    "name": "ipython",
    "version": 3
   },
   "file_extension": ".py",
   "mimetype": "text/x-python",
   "name": "python",
   "nbconvert_exporter": "python",
   "pygments_lexer": "ipython3",
   "version": "3.10.6"
  },
  "orig_nbformat": 4,
  "vscode": {
   "interpreter": {
    "hash": "5f65ea54541488ffbce5e423852f90170cfb3471f75a19136a43c6da41907915"
   }
  }
 },
 "nbformat": 4,
 "nbformat_minor": 2
}
